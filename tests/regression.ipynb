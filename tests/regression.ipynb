{
 "cells": [
  {
   "cell_type": "code",
   "execution_count": 13,
   "id": "cf7e86b1",
   "metadata": {},
   "outputs": [],
   "source": [
    "import pandas as pd\n",
    "from scipy import stats"
   ]
  },
  {
   "cell_type": "code",
   "execution_count": 14,
   "id": "776bab0d",
   "metadata": {},
   "outputs": [],
   "source": [
    "import statsmodels.api as sm\n",
    "from sklearn.linear_model import LinearRegression\n",
    "from sklearn.linear_model import Ridge\n",
    "from sklearn.linear_model import Lasso\n",
    "from sklearn.linear_model import ElasticNet"
   ]
  },
  {
   "cell_type": "code",
   "execution_count": 15,
   "id": "7c55f03b",
   "metadata": {},
   "outputs": [],
   "source": [
    "file_path = '../out/lnLambda-predQP.json'\n",
    "data = pd.read_json(file_path)"
   ]
  },
  {
   "cell_type": "code",
   "execution_count": 16,
   "id": "6674a7a7",
   "metadata": {},
   "outputs": [],
   "source": [
    "x = data['ax']\n",
    "y = data['ay']"
   ]
  },
  {
   "cell_type": "code",
   "execution_count": 17,
   "id": "6978170c",
   "metadata": {},
   "outputs": [],
   "source": [
    "slope, intercept, r_value, p_value, std_err = stats.linregress(x, y)"
   ]
  },
  {
   "cell_type": "code",
   "execution_count": 18,
   "id": "e69d7c50",
   "metadata": {},
   "outputs": [
    {
     "name": "stdout",
     "output_type": "stream",
     "text": [
      "\n",
      "[scipy]-lineregress 결과:\n",
      "기울기: 3.5801297510279224\n",
      "y절편: 14.02284947530045\n",
      "결정계수 R^2: 0.9988099493457594\n"
     ]
    }
   ],
   "source": [
    "print(\"\\n[scipy]-lineregress 결과:\")\n",
    "print(\"기울기:\", slope)\n",
    "print(\"y절편:\", intercept)\n",
    "print(\"결정계수 R^2:\", r_value**2)"
   ]
  },
  {
   "cell_type": "code",
   "execution_count": 19,
   "id": "b5a52c1b",
   "metadata": {},
   "outputs": [
    {
     "name": "stdout",
     "output_type": "stream",
     "text": [
      "\n",
      "[statsmodels]-OLS 결과:\n",
      "기울기: 3.580129751027926\n",
      "y절편: 14.022849475300454\n",
      "결정계수 R^2: 0.9988099493457596\n"
     ]
    }
   ],
   "source": [
    "X = sm.add_constant(x)\n",
    "model = sm.OLS(y, X).fit()\n",
    "print(\"\\n[statsmodels]-OLS 결과:\")\n",
    "print(\"기울기:\", model.params[1])\n",
    "print(\"y절편:\", model.params[0])\n",
    "print(\"결정계수 R^2:\", model.rsquared)"
   ]
  },
  {
   "cell_type": "code",
   "execution_count": 20,
   "id": "18f8fa76",
   "metadata": {},
   "outputs": [
    {
     "name": "stdout",
     "output_type": "stream",
     "text": [
      "\n",
      "[sklearn]-Linear Regression 결과:\n",
      "기울기: 3.5801297510279237\n",
      "y절편: 14.022849475300443\n"
     ]
    }
   ],
   "source": [
    "model = LinearRegression().fit(x.values.reshape(-1,1), y)\n",
    "print(\"\\n[sklearn]-Linear Regression 결과:\")\n",
    "print(\"기울기:\", model.coef_[0])\n",
    "print(\"y절편:\", model.intercept_)"
   ]
  },
  {
   "cell_type": "code",
   "execution_count": 21,
   "id": "cea2867f",
   "metadata": {},
   "outputs": [
    {
     "name": "stdout",
     "output_type": "stream",
     "text": [
      "\n",
      "[sklearn]-Ridge Regression 결과:\n",
      "기울기: 3.580125935599454\n",
      "y절편: 14.02287289684827\n"
     ]
    }
   ],
   "source": [
    "model = Ridge(alpha=1.0).fit(x.values.reshape(-1,1), y)\n",
    "print(\"\\n[sklearn]-Ridge Regression 결과:\")\n",
    "print(\"기울기:\", model.coef_[0])\n",
    "print(\"y절편:\", model.intercept_)"
   ]
  },
  {
   "cell_type": "code",
   "execution_count": 22,
   "id": "d0cc4c1b",
   "metadata": {},
   "outputs": [
    {
     "name": "stdout",
     "output_type": "stream",
     "text": [
      "\n",
      "[sklearn]-Lasso Regression 결과:\n",
      "기울기: 3.3941821137997468\n",
      "y절편: 15.164315371816784\n"
     ]
    }
   ],
   "source": [
    "model = Lasso(alpha=1.0).fit(x.values.reshape(-1,1), y)\n",
    "print(\"\\n[sklearn]-Lasso Regression 결과:\")\n",
    "print(\"기울기:\", model.coef_[0])\n",
    "print(\"y절편:\", model.intercept_)"
   ]
  },
  {
   "cell_type": "code",
   "execution_count": 23,
   "id": "9a673f9b",
   "metadata": {},
   "outputs": [
    {
     "name": "stdout",
     "output_type": "stream",
     "text": [
      "\n",
      "[sklearn]-Elastic Net Regression 결과:\n",
      "기울기: 3.19052101068223\n",
      "y절편: 16.414517886464903\n"
     ]
    }
   ],
   "source": [
    "model = ElasticNet(alpha=1.0, l1_ratio=0.5).fit(x.values.reshape(-1,1), y)\n",
    "print(\"\\n[sklearn]-Elastic Net Regression 결과:\")\n",
    "print(\"기울기:\", model.coef_[0])\n",
    "print(\"y절편:\", model.intercept_)"
   ]
  }
 ],
 "metadata": {
  "jupytext": {
   "cell_metadata_filter": "-all",
   "main_language": "python",
   "notebook_metadata_filter": "-all"
  },
  "language_info": {
   "name": "python"
  }
 },
 "nbformat": 4,
 "nbformat_minor": 5
}
